{
 "cells": [
  {
   "cell_type": "code",
   "execution_count": 1,
   "metadata": {},
   "outputs": [],
   "source": [
    "import numpy as np\n",
    "\n",
    "def from_ibin(filename, start_idx = 0, chunk_size = None):\n",
    "    with open(filename, \"rb\") as f:\n",
    "        nvecs, dim = np.fromfile(f, count = 2, dtype = np.int32)\n",
    "        nvecs = (nvecs - start_idx) if chunk_size is None else chunk_size\n",
    "        arr = np.fromfile(f, count = nvecs * dim, dtype = np.int32,\n",
    "                          offset = start_idx * 4 * dim)\n",
    "    print(filename + \":  \" + str(nvecs) + \"   \" + str(dim))\n",
    "    return arr.reshape(nvecs, dim)\n",
    "\n",
    "def to_ibin_padded(filename, arr, target_width=128, pad_value=-1):\n",
    "    nvecs, dim = arr.shape\n",
    "    if dim > target_width:\n",
    "        print(f\"警告: 输入维度({dim})大于目标宽度({target_width})，数据将被截断\")\n",
    "        padded_arr = arr[:, :target_width]\n",
    "    elif dim == target_width:\n",
    "        print(f\"输入维度({dim})等于目标宽度({target_width})，无需填充\")\n",
    "        padded_arr = arr\n",
    "    else:\n",
    "        padded_arr = np.full((nvecs, target_width), pad_value, dtype=np.int32)\n",
    "        padded_arr[:, :dim] = arr\n",
    "        print(f\"已将输入数据从形状({nvecs}, {dim})填充到({nvecs}, {target_width})\")\n",
    "    with open(filename, \"wb\") as f:\n",
    "        padded_arr.astype(np.int32).tofile(f)\n",
    "    file_size_mb = (nvecs * target_width * 4) / (1024 * 1024)\n",
    "    print(f\"已保存到{filename}: {nvecs}行 × {target_width}列\")\n",
    "    print(f\"文件大小: {file_size_mb:.2f} MB\")\n",
    "    \n",
    "    return padded_arr"
   ]
  },
  {
   "cell_type": "code",
   "execution_count": 2,
   "metadata": {},
   "outputs": [
    {
     "name": "stdout",
     "output_type": "stream",
     "text": [
      "./data/t2i-10M/gt.train.10M.ibin:  10000000   100\n"
     ]
    }
   ],
   "source": [
    "gt = from_ibin(\"./data/t2i-10M/gt.train.10M.ibin\")"
   ]
  },
  {
   "cell_type": "code",
   "execution_count": 3,
   "metadata": {},
   "outputs": [
    {
     "name": "stdout",
     "output_type": "stream",
     "text": [
      "已将输入数据从形状(10000000, 100)填充到(10000000, 128)\n",
      "已保存到./data/t2i-10000000-200/gt_10000000_128.ibin: 10000000行 × 128列\n",
      "文件大小: 4882.81 MB\n"
     ]
    },
    {
     "data": {
      "text/plain": [
       "array([[ 591476, 8059312, 5695992, ...,      -1,      -1,      -1],\n",
       "       [3276391, 9621456, 6119637, ...,      -1,      -1,      -1],\n",
       "       [2024867, 5269721,  912634, ...,      -1,      -1,      -1],\n",
       "       ...,\n",
       "       [2588306, 5394456, 9255485, ...,      -1,      -1,      -1],\n",
       "       [6742606,  511560, 1978136, ...,      -1,      -1,      -1],\n",
       "       [6358973,  318644, 9713310, ...,      -1,      -1,      -1]],\n",
       "      shape=(10000000, 128), dtype=int32)"
      ]
     },
     "execution_count": 3,
     "metadata": {},
     "output_type": "execute_result"
    }
   ],
   "source": [
    "to_ibin_padded(\"./data/t2i-10000000-200/gt_10000000_128.ibin\", gt, target_width=128)"
   ]
  }
 ],
 "metadata": {
  "kernelspec": {
   "display_name": "bmg",
   "language": "python",
   "name": "python3"
  },
  "language_info": {
   "codemirror_mode": {
    "name": "ipython",
    "version": 3
   },
   "file_extension": ".py",
   "mimetype": "text/x-python",
   "name": "python",
   "nbconvert_exporter": "python",
   "pygments_lexer": "ipython3",
   "version": "3.10.16"
  }
 },
 "nbformat": 4,
 "nbformat_minor": 2
}
