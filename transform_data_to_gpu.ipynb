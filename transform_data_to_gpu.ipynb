{
 "cells": [
  {
   "cell_type": "code",
   "execution_count": 1,
   "metadata": {},
   "outputs": [],
   "source": [
    "import numpy as np\n",
    "\n",
    "def from_fbin(filename, start_idx = 0, chunk_size = None):\n",
    "    with open(filename, \"rb\") as f:\n",
    "        nvecs, dim = np.fromfile(f, count = 2, dtype = np.int32)\n",
    "        nvecs = (nvecs - start_idx) if chunk_size is None else chunk_size\n",
    "        arr = np.fromfile(f, count=np.int64(nvecs) * np.int64(dim), dtype=np.float32)\n",
    "    print(filename + \":  \" + str(nvecs) + \"   \" + str(dim))\n",
    "    return arr.reshape(nvecs, dim)\n",
    "\n",
    "def to_fbin(filename, arr):\n",
    "    nvecs, dim = arr.shape\n",
    "    print(filename + \":  \" + str(nvecs) + \"   \" + str(dim))\n",
    "    with open(filename, \"wb\") as f:\n",
    "        arr.astype(np.float32).tofile(f)\n",
    "        "
   ]
  },
  {
   "cell_type": "code",
   "execution_count": 2,
   "metadata": {},
   "outputs": [
    {
     "name": "stdout",
     "output_type": "stream",
     "text": [
      "./data/t2i-10M/base.10M.fbin:  10000000   200\n"
     ]
    }
   ],
   "source": [
    "data = from_fbin(\"./data/t2i-10M/base.10M.fbin\")"
   ]
  },
  {
   "cell_type": "code",
   "execution_count": 3,
   "metadata": {},
   "outputs": [
    {
     "name": "stdout",
     "output_type": "stream",
     "text": [
      "./data/t2i-10000000-200/t2i_10000000_200.fbin:  10000000   200\n"
     ]
    }
   ],
   "source": [
    "to_fbin(\"./data/t2i-10000000-200/t2i_10000000_200.fbin\", data)"
   ]
  }
 ],
 "metadata": {
  "kernelspec": {
   "display_name": "bmg",
   "language": "python",
   "name": "python3"
  },
  "language_info": {
   "codemirror_mode": {
    "name": "ipython",
    "version": 3
   },
   "file_extension": ".py",
   "mimetype": "text/x-python",
   "name": "python",
   "nbconvert_exporter": "python",
   "pygments_lexer": "ipython3",
   "version": "3.10.16"
  }
 },
 "nbformat": 4,
 "nbformat_minor": 2
}
